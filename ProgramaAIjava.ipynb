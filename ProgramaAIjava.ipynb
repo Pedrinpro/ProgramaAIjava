{
  "nbformat": 4,
  "nbformat_minor": 0,
  "metadata": {
    "colab": {
      "provenance": [],
      "authorship_tag": "ABX9TyONQ5VAKHdR5RAGKbLj84SE",
      "include_colab_link": true
    },
    "kernelspec": {
      "name": "python3",
      "display_name": "Python 3"
    },
    "language_info": {
      "name": "python"
    }
  },
  "cells": [
    {
      "cell_type": "markdown",
      "metadata": {
        "id": "view-in-github",
        "colab_type": "text"
      },
      "source": [
        "<a href=\"https://colab.research.google.com/github/Pedrinpro/ProgramaAIjava/blob/main/ProgramaAIjava.ipynb\" target=\"_parent\"><img src=\"https://colab.research.google.com/assets/colab-badge.svg\" alt=\"Open In Colab\"/></a>"
      ]
    },
    {
      "cell_type": "markdown",
      "source": [
        "# ProgramaAI 🤖\n",
        "*Feito por Thiago Cruz*"
      ],
      "metadata": {
        "id": "Oftz-TODgEaB"
      }
    },
    {
      "cell_type": "markdown",
      "source": [
        "# Instalação do genai⬇"
      ],
      "metadata": {
        "id": "kSaUMB7tgJsp"
      }
    },
    {
      "cell_type": "code",
      "execution_count": 14,
      "metadata": {
        "id": "CyL2roECgBd1"
      },
      "outputs": [],
      "source": [
        "!pip install -q -U google-generativeai"
      ]
    },
    {
      "cell_type": "markdown",
      "source": [
        "# Início do código 👨‍💻"
      ],
      "metadata": {
        "id": "v52eWofGgOkY"
      }
    },
    {
      "cell_type": "markdown",
      "source": [
        "*Importa o pandas, o numpy e o google.generativeai e configura a key(chave)*"
      ],
      "metadata": {
        "id": "WKG0N5HggSGs"
      }
    },
    {
      "cell_type": "code",
      "source": [
        "import pandas as pd\n",
        "import numpy as np\n",
        "from google.colab import userdata\n",
        "key = userdata.get('SECRET_KEY')\n",
        "import google.generativeai as genai\n",
        "genai.configure(api_key=key)"
      ],
      "metadata": {
        "id": "y-T9WhipgRZG"
      },
      "execution_count": 15,
      "outputs": []
    },
    {
      "cell_type": "markdown",
      "source": [
        "## Embeddings 💠"
      ],
      "metadata": {
        "id": "xWKC7NZ1gqLK"
      }
    },
    {
      "cell_type": "markdown",
      "source": [
        "*Mostra embeddings*"
      ],
      "metadata": {
        "id": "Vxs9aCERguFh"
      }
    },
    {
      "cell_type": "code",
      "source": [
        "for m in genai.list_models():\n",
        "  if 'embedContent' in m.supported_generation_methods:\n",
        "    print(m.name)"
      ],
      "metadata": {
        "id": "ChiZSCvCgusO"
      },
      "execution_count": null,
      "outputs": []
    },
    {
      "cell_type": "markdown",
      "source": [
        "*Mostra o embeeding*"
      ],
      "metadata": {
        "id": "pLgdRAKbgyyt"
      }
    },
    {
      "cell_type": "code",
      "source": [
        "title = \"The next generation of AI for developers and Google Workspace\"\n",
        "sample_text = (\"Title: The next generation of AI for developers and Google Workspace\"\n",
        "    \"\\n\"\n",
        "    \"Full article:\\n\"\n",
        "    \"\\n\"\n",
        "    \"Gemini API & Google AI Studio: An approachable way to explore and prototype with generative AI applications\")\n",
        "\n",
        "model = 'models/embedding-001'\n",
        "embedding = genai.embed_content(model=model,\n",
        "                                content=sample_text,\n",
        "                                task_type=\"retrieval_document\",\n",
        "                                title=title)\n",
        "\n",
        "print(embedding)"
      ],
      "metadata": {
        "id": "alboPCJ0g5jp"
      },
      "execution_count": null,
      "outputs": []
    },
    {
      "cell_type": "markdown",
      "source": [
        "## Listagem dos inputs📜"
      ],
      "metadata": {
        "id": "-wK_jq9Bg6fj"
      }
    },
    {
      "cell_type": "code",
      "source": [
        "DOCUMENT1 = {\n",
        "  \"title\": \"java.lang\",\n",
        "  \"content\": \"Esta é a biblioteca fundamental do Java que fornece classes e métodos essenciais para o desenvolvimento de aplicativos Java. Ela contém classes como String, Math, System e Thread. A classe String permite a manipulação de cadeias de caracteres, como concatenação, substituição, busca e muito mais. A classe Math fornece métodos para operações matemáticas comuns, como cálculos trigonométricos, exponenciais, arredondamento, etc. A classe System oferece acesso ao ambiente de tempo de execução do sistema, como propriedades do sistema, entrada/saída padrão, etc. A classe Thread permite a criação e o controle de threads em um programa Java, essencial para a execução concorrente de código.\"\n",
        "}\n",
        "\n",
        "DOCUMENT2 = {\n",
        "  \"title\": \"java.util\",\n",
        "  \"content\": \"Esta biblioteca fornece classes e interfaces para trabalhar com coleções de dados, data e hora, e vários utilitários. Ela inclui interfaces como List, Set e Map, juntamente com implementações como ArrayList, HashSet e HashMap, para manipulação eficiente de dados. Além disso, fornece classes para manipular datas, horários e calendários, como LocalDate, LocalDateTime e DateTimeFormatter.\"\n",
        "}\n",
        "\n",
        "DOCUMENT3 = {\n",
        "  \"title\": \"java.io\",\n",
        "  \"content\": \"Esta biblioteca fornece classes para operações de entrada/saída (E/S) em Java. Ela inclui classes para lidar com arquivos (File), streams de entrada e saída (InputStream, OutputStream) e muito mais. Essas classes são essenciais para ler e escrever dados de e para diferentes fontes, como arquivos no sistema de arquivos, conexões de rede, etc.\"\n",
        "}\n",
        "\n",
        "DOCUMENT4 = {\n",
        "  \"title\": \"java.net\",\n",
        "  \"content\": \"Esta biblioteca fornece classes para suporte a operações de rede em Java. Ela inclui classes para manipular URLs (URL), sockets para comunicação de rede (Socket) e classes como HttpURLConnection para enviar solicitações HTTP e receber respostas. Com essa biblioteca, os desenvolvedores podem criar aplicativos que se comunicam pela rede, como navegadores da web, clientes de e-mail, etc.\"\n",
        "}\n",
        "\n",
        "DOCUMENT5 = {\n",
        "  \"title\": \"java.nio\",\n",
        "  \"content\": \"Esta biblioteca fornece suporte para operações de entrada e saída (E/S) não bloqueantes em Java. Ela oferece uma maneira eficiente de lidar com operações de E/S intensivas, permitindo que um único thread gerencie várias conexões de forma assíncrona. Isso é especialmente útil em aplicativos de rede de alto desempenho, como servidores da web.\"\n",
        "}\n",
        "\n",
        "DOCUMENT6 = {\n",
        "  \"title\": \"java.sql\",\n",
        "  \"content\": \"Esta biblioteca fornece suporte para conectividade com banco de dados em Java por meio do JDBC (Java Database Connectivity). Ela inclui classes e interfaces para interagir com diferentes bancos de dados relacionais, executar consultas SQL, recuperar e atualizar dados, etc. Com essa biblioteca, os desenvolvedores podem criar aplicativos Java que se comunicam com bancos de dados, realizando operações como inserção, exclusão, atualização e consulta de dados.\"\n",
        "}\n",
        "\n",
        "DOCUMENT7 = {\n",
        "  \"title\": \"java.math\",\n",
        "  \"content\": \"Java é conhecido por sua portabilidade, o que significa que os programas escritos em Java podem ser executados em diferentes plataformas de hardware e sistemas operacionais sem a necessidade de recompilação. Isso é possível graças à máquina virtual Java (JVM), que interpreta o código Java compilado em bytecode. Essa característica é particularmente útil em ambientes onde a diversidade de dispositivos e sistemas operacionais é comum, como no desenvolvimento de aplicativos para dispositivos móveis, servidores corporativos e sistemas embarcados. Outra característica fundamental do Java é sua orientação a objetos. Essa abordagem organiza o código em classes e objetos, facilitando a modularização, reutilização e manutenção do código. Os princípios da orientação a objetos, como encapsulamento, herança, polimorfismo e abstração, permitem a construção de sistemas complexos e flexíveis. Java é uma linguagem versátil que pode ser aplicada em uma ampla gama de domínios, desde aplicativos de desktop até sistemas empresariais complexos e servidores web. Sua ampla adoção é impulsionada não apenas pela portabilidade e orientação a objetos, mas também pela sua robusta biblioteca padrão e pelo grande ecossistema de ferramentas e frameworks disponíveis para os desenvolvedores.\"\n",
        "}\n",
        "DOCUMENT8 = {\n",
        "    \"title\": \"Tags ou palavras chave do java\",\n",
        "    \"content\": 'Palavras-chave essenciais em Java incluem \"public\", \"class\", \"static\", \"void\", \"final\", \"return\", \"new\", \"if\", \"else\", \"for\", \"while\", \"try\", \"catch\" e \"finally\". Alguns tipos de dados fundamentais são \"int\" para números inteiros, \"double\" para números de ponto flutuante, \"boolean\" para valores verdadeiro/falso, \"String\" para cadeias de caracteres e \"char\" para caracteres individuais. Métodos comuns da classe String incluem \"length()\", \"charAt(int index)\", \"substring(int beginIndex, int endIndex)\", \"equals(Object obj)\", \"toUpperCase()\", e \"toLowerCase()\". A estrutura básica de um programa Java consiste em uma declaração de classe pública com um método principal \"public static void main(String[] args)\". Comentários de uma linha são feitos com \"//\", enquanto comentários de várias linhas podem ser feitos com \"/* */\".'\n",
        "}\n",
        "DOCUMENT9 = {\n",
        "    \"title\": \"Curiosidades do java\",\n",
        "    \"content\": 'Java é a linguagem de programação escolhida para o desenvolvimento do sistema operacional Android, usado em bilhões de dispositivos em todo o mundo. Além de executar bytecode Java, a JVM (Java Virtual Machine) também é utilizada em aplicações de tempo real em setores como finanças e telecomunicações. Existem certificações profissionais oferecidas pela Oracle para desenvolvedores Java, cobrindo diferentes níveis de habilidade e expertise. A versão inicial do Java foi lançada pela Sun Microsystems em 1995, e desde então tem sido continuamente atualizada e aprimorada. A biblioteca padrão do Java (Java Standard Library) inclui uma vasta gama de classes e métodos para facilitar o desenvolvimento de uma variedade de aplicativos. O Java é uma linguagem orientada a objetos, o que significa que segue o paradigma de programação orientada a objetos, permitindo a organização eficiente do código em classes e objetos. Java é conhecido por sua portabilidade, permitindo que os programas escritos em Java sejam executados em diferentes plataformas de hardware e sistemas operacionais sem a necessidade de recompilação. A comunidade Java é vasta e ativa, com uma ampla gama de recursos disponíveis, incluindo fóruns, comunidades online, tutoriais e bibliotecas de código aberto. Java foi originalmente chamado de \"Oak\" em homenagem a uma árvore que crescia fora da janela do criador, James Gosling. O nome foi alterado para Java posteriormente. Uma das principais filosofias de design do Java é \"Write Once, Run Anywhere\" (Escreva uma vez, execute em qualquer lugar), enfatizando sua portabilidade e interoperabilidade entre plataformas. O Java possui uma forte comunidade de desenvolvedores em todo o mundo, contribuindo para a criação e manutenção de muitos frameworks e bibliotecas populares, como Spring, Hibernate e Apache Struts. Além de ser usado para desenvolvimento de software, o Java é frequentemente ensinado como uma linguagem de programação introdutória em cursos de ciência da computação devido à sua sintaxe clara e estruturada. O Java não apenas influenciou muitas outras linguagens de programação modernas, mas também inspirou a criação de plataformas e linguagens, como o Kotlin, que é oficialmente suportado pelo Android. O mascote oficial do Java é o \"Duke\", um pinguim de pelúcia que se tornou um ícone reconhecível para a comunidade Java. Java é amplamente utilizado em uma variedade de setores, incluindo finanças, saúde, educação, jogos, sistemas embarcados, Internet das Coisas (IoT) e muito mais, demonstrando sua versatilidade e robustez como linguagem de programação.'\n",
        "}\n",
        "DOCUMENT10 = {\n",
        "    \"title\": \"Introdução à Linguagem Java\",\n",
        "    \"content\": \"Java é uma linguagem de programação de alto nível e orientada a objetos, desenvolvida pela Sun Microsystems (agora parte da Oracle). É conhecida por sua portabilidade, segurança e facilidade de uso. Desde seu lançamento em 1995, Java tem sido amplamente adotada para o desenvolvimento de uma variedade de aplicativos, incluindo aplicativos de desktop, aplicativos da web, aplicativos móveis e sistemas embarcados.\"\n",
        "}\n",
        "\n",
        "DOCUMENT11 = {\n",
        "    \"title\": \"História e Evolução da Linguagem\",\n",
        "    \"content\": \"Java foi criada por uma equipe de engenheiros liderada por James Gosling na Sun Microsystems em meados da década de 1990. A linguagem foi inicialmente projetada para ser utilizada em dispositivos eletrônicos, mas logo foi direcionada para a Internet. Uma das principais motivações para o desenvolvimento do Java foi a necessidade de uma linguagem de programação que pudesse ser executada em diferentes plataformas de hardware e sistemas operacionais. Desde então, Java tem passado por várias atualizações e continua sendo uma das linguagens de programação mais populares e amplamente usadas no mundo.\"\n",
        "}\n",
        "\n",
        "DOCUMENT12 = {\n",
        "    \"title\": \"Por que Usar Java?\",\n",
        "    \"content\": \"Existem várias razões para usar Java em projetos de desenvolvimento de software. Algumas dessas razões incluem sua portabilidade, segurança, desempenho, facilidade de aprendizado e vasta comunidade de desenvolvedores. Além disso, Java possui uma grande biblioteca padrão e um ecossistema robusto de ferramentas e frameworks que facilitam o desenvolvimento de aplicativos complexos.\"\n",
        "}\n",
        "\n",
        "DOCUMENT13 = {\n",
        "    \"title\": \"Instalação e Configuração do Ambiente de Desenvolvimento\",\n",
        "    \"content\": \"Para começar a desenvolver em Java, você precisará baixar e instalar o JDK (Java Development Kit), que inclui o compilador Java, as bibliotecas padrão e outras ferramentas de desenvolvimento. Depois de instalar o JDK, você pode configurar o ambiente de desenvolvimento no seu sistema operacional. Além disso, você pode optar por usar uma IDE (Integrated Development Environment) como IntelliJ IDEA, Eclipse ou NetBeans, que oferecem recursos avançados de desenvolvimento, como edição de código, depuração e gerenciamento de projetos.\"\n",
        "}\n",
        "\n",
        "DOCUMENT14 = {\n",
        "    \"title\": \"Conceitos Fundamentais\",\n",
        "    \"content\": \"Os conceitos fundamentais de Java incluem variáveis e tipos de dados, operadores, estruturas de controle de fluxo e métodos. As variáveis em Java podem armazenar diferentes tipos de dados, como inteiros, números de ponto flutuante, caracteres e valores booleanos. Os operadores em Java são usados para realizar operações em variáveis e valores. As estruturas de controle de fluxo, como if-else, switch-case e loops, são usadas para controlar o fluxo de execução do programa. Métodos são blocos de código que realizam uma tarefa específica e podem ser chamados de outros lugares do programa.\"\n",
        "}\n",
        "\n",
        "DOCUMENT15 = {\n",
        "    \"title\": \"Arrays e Coleções\",\n",
        "    \"content\": \"Em Java, arrays são usados para armazenar múltiplos valores do mesmo tipo em uma única variável. As coleções em Java, como ArrayList, LinkedList e HashSet, são usadas para armazenar e manipular coleções de objetos de forma eficiente. Arrays são estáticos em tamanho, enquanto as coleções podem crescer dinamicamente conforme necessário. O uso adequado de arrays e coleções é essencial para o desenvolvimento de aplicativos Java eficientes.\"\n",
        "}\n",
        "\n",
        "DOCUMENT16 = {\n",
        "    \"title\": \"Métodos e Funções\",\n",
        "    \"content\": \"Métodos em Java são blocos de código que realizam uma tarefa específica e podem ser chamados de outros lugares do programa. Eles podem ter parâmetros que recebem valores de entrada e podem retornar valores de saída. A sobrecarga de métodos permite que vários métodos com o mesmo nome sejam definidos em uma classe, desde que tenham listas de parâmetros diferentes. Métodos estáticos pertencem à classe em vez de instâncias individuais e podem ser chamados diretamente na classe sem criar uma instância.\"\n",
        "}\n",
        "\n",
        "DOCUMENT17 = {\n",
        "    \"title\": \"Classes e Objetos\",\n",
        "    \"content\": \"Classes em Java são modelos para criar objetos. Elas encapsulam dados para o estado do objeto e métodos para manipular esses dados. Os objetos são instâncias de classes e podem ser criados usando a palavra-chave 'new'. Os objetos têm acesso aos membros da classe, como atributos e métodos. A orientação a objetos é um dos principais princípios de design em Java e ajuda a organizar o código de forma eficiente e reutilizável.\"\n",
        "}\n",
        "\n",
        "DOCUMENT18 = {\n",
        "    \"title\": \"Herança e Polimorfismo\",\n",
        "    \"content\": \"Herança em Java permite que uma classe herde atributos e métodos de outra classe. Isso promove a reutilização de código e facilita a criação de hierarquias de classes. Polimorfismo permite que objetos de diferentes classes sejam tratados de maneira uniforme, com base em uma classe comum. Isso é útil para escrever código genérico que pode trabalhar com diferentes tipos de objetos.\"\n",
        "}\n",
        "\n",
        "DOCUMENT19 = {\n",
        "    \"title\": \"Encapsulamento e Modificadores de Acesso\",\n",
        "    \"content\": \"Encapsulamento em Java é o conceito de ocultar os detalhes de implementação de uma classe e expor apenas uma interface pública. Isso é feito usando modificadores de acesso, como public, private, protected e default, para controlar o acesso aos membros da classe. O encapsulamento ajuda a evitar modificações acidentais no estado do objeto e promove a modularidade e a manutenção do código.\"\n",
        "}\n",
        "\n",
        "DOCUMENT20 = {\n",
        "    \"title\": \"Tratamento de Exceções\",\n",
        "    \"content\": \"O tratamento de exceções em Java é usado para lidar com situações excepcionais que podem ocorrer durante a execução do programa. A hierarquia de exceções em Java inclui classes como Exception e RuntimeException. O bloco try-catch é usado para capturar exceções e executar código alternativo em caso de erro. O bloco finally é usado para executar código que deve ser executado independentemente de uma exceção ocorrer ou não.\"\n",
        "}\n",
        "\n",
        "DOCUMENT21 = {\n",
        "    \"title\": \"Entrada e Saída de Dados\",\n",
        "    \"content\": \"A entrada e saída de dados em Java é realizada usando classes como Scanner para ler dados do teclado e classes como System.out.println para escrever dados no console. Além disso, Java fornece classes para manipulação de arquivos, como FileReader, FileWriter, BufferedReader e BufferedWriter, para ler e escrever dados de e para arquivos no sistema de arquivos.\"\n",
        "}\n",
        "DOCUMENT22 = {\n",
        "    \"title\": \"Exemplo 1: Hello World\",\n",
        "    \"content\": \"\"\"public class HelloWorld {\n",
        "    public static void main(String[] args) {\n",
        "        System.out.println(\"Hello, World!\");\n",
        "    }\n",
        "}\n",
        "Este exemplo demonstra um programa Java simples que imprime a mensagem 'Hello, World!' no console.\"\"\"\n",
        "}\n",
        "\n",
        "DOCUMENT23 = {\n",
        "    \"title\": \"Exemplo 2: Cálculo de Média\",\n",
        "    \"content\": \"\"\"public class CalculoMedia {\n",
        "    public static void main(String[] args) {\n",
        "        double num1 = 10.5;\n",
        "        double num2 = 8.3;\n",
        "        double num3 = 9.7;\n",
        "\n",
        "        double media = (num1 + num2 + num3) / 3;\n",
        "        System.out.println(\"A média é: \" + media);\n",
        "    }\n",
        "}\n",
        "Este exemplo calcula a média de três números e imprime o resultado no console\"\"\"\n",
        "}\n",
        "\n",
        "DOCUMENT24 = {\n",
        "    \"title\": \"Exemplo 3: Verificação de Número Primo\",\n",
        "    \"content\": \"\"\"public class NumeroPrimo {\n",
        "    public static void main(String[] args) {\n",
        "        int num = 17;\n",
        "        boolean primo = true;\n",
        "\n",
        "        for (int i = 2; i <= num / 2; ++i) {\n",
        "            if (num % i == 0) {\n",
        "                primo = false;\n",
        "                break;\n",
        "            }\n",
        "        }\n",
        "\n",
        "        if (primo)\n",
        "            System.out.println(num + \" é primo.\");\n",
        "        else\n",
        "            System.out.println(num + \" não é primo.\");\n",
        "    }\n",
        "}\n",
        "Este exemplo verifica se um número é primo ou não e imprime o resultado no console.\"\"\"\n",
        "}\n",
        "\n",
        "DOCUMENT25 = {\n",
        "    \"title\": \"Exemplo 4: Conversão de Temperatura\",\n",
        "    \"content\": \"\"\"public class ConversaoTemperatura {\n",
        "    public static void main(String[] args) {\n",
        "        double celsius = 25.0;\n",
        "        double fahrenheit = (celsius * 9/5) + 32;\n",
        "\n",
        "        System.out.println(celsius + \" graus Celsius é equivalente a \" + fahrenheit + \" graus Fahrenheit.\");\n",
        "    }\n",
        "}\n",
        "Este exemplo converte uma temperatura de graus Celsius para graus Fahrenheit e imprime o resultado no console.\"\"\"\n",
        "}\n",
        "DOCUMENT26 = {\n",
        "    \"title\": \"Introdução ao JavaFX\",\n",
        "    \"content\": \"\"\"JavaFX é uma plataforma de software para a criação de aplicações de desktop ricas em recursos e interativas. Este documento fornece uma introdução básica ao JavaFX, explicando seus principais conceitos e recursos.\"\"\"\n",
        "}\n",
        "DOCUMENT27 = {\n",
        "    \"title\": \"Criando Interfaces Gráficas do Usuário (GUI)\",\n",
        "    \"content\": \"\"\"Este documento apresenta exemplos de código JavaFX para criar interfaces gráficas do usuário (GUI). Ele demonstra como criar janelas, botões, caixas de texto e outros componentes de GUI usando JavaFX.\"\"\"\n",
        "}\n",
        "\n",
        "DOCUMENT28 = {\n",
        "    \"title\": \"Gráficos e Animações em JavaFX\",\n",
        "    \"content\": \"\"\"A criação de gráficos e animações é uma parte importante do desenvolvimento de aplicações interativas em JavaFX. Este documento explora como criar gráficos e animações em JavaFX para melhorar a experiência do usuário.\"\"\"\n",
        "}\n",
        "\n",
        "\n",
        "DOCUMENT29 = {\n",
        "    \"title\": \"Aplicações de Mídia em JavaFX\",\n",
        "    \"content\": \"\"\"JavaFX oferece suporte para a incorporação de áudio, vídeo e imagens em aplicações de desktop. Este documento mostra como criar aplicativos de mídia em JavaFX, como players de música e galerias de fotos.\"\"\"\n",
        "}\n",
        "\n",
        "DOCUMENT30 = {\n",
        "    \"title\": \"Estilo e Temas em JavaFX\",\n",
        "    \"content\": \"\"\"Personalizar o estilo e o tema de aplicações JavaFX é importante para criar uma experiência de usuário atraente. Este documento explora como usar CSS (Cascading Style Sheets) em JavaFX para aplicar estilos personalizados aos componentes da GUI.\"\"\"\n",
        "}\n",
        "\n",
        "DOCUMENT31 = {\n",
        "    \"title\": \"Integração com Bancos de Dados em JavaFX\",\n",
        "    \"content\": \"\"\"Este documento aborda como integrar aplicações JavaFX com bancos de dados, permitindo que os usuários interajam com dados armazenados localmente ou em um servidor remoto por meio de interfaces gráficas.\"\"\"\n",
        "}\n",
        "\n",
        "DOCUMENT32 = {\n",
        "    \"title\": \"Desenvolvimento Responsivo em JavaFX\",\n",
        "    \"content\": \"\"\"Desenvolver aplicações JavaFX responsivas é essencial para fornecer uma experiência de usuário consistente em diferentes dispositivos e tamanhos de tela. Este documento explora técnicas para criar aplicações JavaFX responsivas.\"\"\"\n",
        "}\n",
        "\n",
        "DOCUMENT33 = {\n",
        "    \"title\": \"Gerenciamento de Eventos em JavaFX\",\n",
        "    \"content\": \"\"\"Lidar com eventos de usuário, como cliques de mouse e pressionamentos de tecla, é fundamental para criar aplicações interativas em JavaFX. Este documento explora como gerenciar eventos em JavaFX.\"\"\"\n",
        "}\n",
        "\n",
        "DOCUMENT34 = {\n",
        "    \"title\": \"Aplicações Multimodais em JavaFX\",\n",
        "    \"content\": \"\"\"Este documento aborda como criar aplicações JavaFX com suporte a entrada multimodal, como toque, mouse e teclado, para oferecer uma experiência de usuário mais flexível e inclusiva.\"\"\"\n",
        "}\n",
        "DOCUMENT35 = {\n",
        "    \"title\": \"Introdução ao Desenvolvimento Android\",\n",
        "    \"content\": \"Este documento fornece uma visão geral do desenvolvimento de aplicativos Android, incluindo os conceitos básicos, a arquitetura do Android, as ferramentas de desenvolvimento e os recursos disponíveis para os desenvolvedores.\"\n",
        "}\n",
        "\n",
        "DOCUMENT36 = {\n",
        "    \"title\": \"UI/UX Design para Aplicativos Android\",\n",
        "    \"content\": \"Este documento explora os princípios de design de interface do usuário (UI) e experiência do usuário (UX) para aplicativos Android. Ele fornece dicas e diretrizes para criar interfaces de usuário intuitivas e atraentes que ofereçam uma ótima experiência para os usuários.\"\n",
        "}\n",
        "\n",
        "DOCUMENT37 = {\n",
        "    \"title\": \"Consumo de APIs RESTful em Aplicativos Android\",\n",
        "    \"content\": \"Neste documento, você aprenderá como consumir APIs RESTful em aplicativos Android. Ele aborda tópicos como fazer solicitações HTTP, analisar dados JSON e exibir as informações em seu aplicativo de maneira eficiente.\"\n",
        "}\n",
        "\n",
        "DOCUMENT38 = {\n",
        "    \"title\": \"Armazenamento Local de Dados em Aplicativos Android\",\n",
        "    \"content\": \"Este documento explora diferentes métodos de armazenamento de dados localmente em dispositivos Android. Ele cobre o uso de SQLite para banco de dados local, SharedPreferences para armazenamento de preferências simples e armazenamento de arquivos para dados estruturados.\"\n",
        "}\n",
        "\n",
        "DOCUMENT39 = {\n",
        "    \"title\": \"Autenticação de Usuário em Aplicativos Android\",\n",
        "    \"content\": \"A autenticação de usuário é crucial para muitos aplicativos Android. Neste documento, você aprenderá a implementar técnicas de autenticação, como login com e-mail/senha, login social e autenticação com token JWT em seus aplicativos.\"\n",
        "}\n",
        "\n",
        "DOCUMENT40 = {\n",
        "    \"title\": \"Integração de Recursos de Hardware em Aplicativos Android\",\n",
        "    \"content\": \"Este documento explora como integrar recursos de hardware, como câmera, GPS, sensores e NFC, em seus aplicativos Android. Ele oferece exemplos práticos e dicas para aproveitar ao máximo esses recursos em seus aplicativos.\"\n",
        "}\n",
        "\n",
        "DOCUMENT41 = {\n",
        "    \"title\": \"Notificações em Aplicativos Android\",\n",
        "    \"content\": \"Notificações push são uma maneira eficaz de manter os usuários engajados com seus aplicativos Android. Neste documento, você aprenderá a implementar notificações push e a enviar mensagens relevantes e oportunas para os usuários de seu aplicativo.\"\n",
        "}\n",
        "\n",
        "\n",
        "DOCUMENT42 = {\n",
        "    \"title\": \"Publicação de Aplicativos Android na Google Play Store\",\n",
        "    \"content\": \"Após desenvolver seu aplicativo Android, é hora de publicá-lo na Google Play Store. Neste documento, você aprenderá sobre o processo de preparação do aplicativo para publicação, geração de certificados de assinatura, criação de listagens de aplicativos atraentes e otimização para descoberta na loja.\"\n",
        "}\n",
        "\n",
        "\n",
        "documents = [DOCUMENT1, DOCUMENT2, DOCUMENT3, DOCUMENT4, DOCUMENT5, DOCUMENT6, DOCUMENT8, DOCUMENT9, DOCUMENT10, DOCUMENT11, DOCUMENT12, DOCUMENT13, DOCUMENT14, DOCUMENT15, DOCUMENT16, DOCUMENT17, DOCUMENT18, DOCUMENT19, DOCUMENT20, DOCUMENT21, DOCUMENT22, DOCUMENT23, DOCUMENT24, DOCUMENT25, DOCUMENT26, DOCUMENT27, DOCUMENT28, DOCUMENT29, DOCUMENT30, DOCUMENT31, DOCUMENT32, DOCUMENT33, DOCUMENT34, DOCUMENT35, DOCUMENT36, DOCUMENT37, DOCUMENT38, DOCUMENT39, DOCUMENT40, DOCUMENT41, DOCUMENT42]"
      ],
      "metadata": {
        "id": "ouMa8kuog9RJ"
      },
      "execution_count": 18,
      "outputs": []
    },
    {
      "cell_type": "markdown",
      "source": [
        "### Organização dos itens em DataFrames💾"
      ],
      "metadata": {
        "id": "spFSTJVDhEcS"
      }
    },
    {
      "cell_type": "markdown",
      "source": [
        "Declara a variável df como a lista dos artigos e deixa eles organizados em title e text"
      ],
      "metadata": {
        "id": "OmtqSUk9hFRK"
      }
    },
    {
      "cell_type": "code",
      "source": [
        "df = pd.DataFrame(documents)\n",
        "df.columns = ['Title', 'Text']\n",
        "df"
      ],
      "metadata": {
        "id": "Bf1hA_vuhJpX"
      },
      "execution_count": null,
      "outputs": []
    },
    {
      "cell_type": "code",
      "source": [
        "def embed_fn(title, text):\n",
        "  return genai.embed_content(model=model,\n",
        "                             content=text,\n",
        "                             task_type=\"retrieval_document\",\n",
        "                             title=title)[\"embedding\"]\n",
        "\n",
        "df['Embeddings'] = df.apply(lambda row: embed_fn(row['Title'], row['Text']), axis=1)\n",
        "df"
      ],
      "metadata": {
        "id": "tsML3VpjhNp4"
      },
      "execution_count": null,
      "outputs": []
    },
    {
      "cell_type": "markdown",
      "source": [
        "# Input para pergunta"
      ],
      "metadata": {
        "id": "7GZC4eAahQzt"
      }
    },
    {
      "cell_type": "markdown",
      "source": [
        "*O query gera uma entrada de texto para o usuário enviar sua pergunta para a ProgramaAIjava*\n",
        "*e o request deixa o modelo como retrieval_query*"
      ],
      "metadata": {
        "id": "_ObxDye5hS2Y"
      }
    },
    {
      "cell_type": "code",
      "source": [
        "query = input(\"faça sua pergunta> \")\n",
        "model = 'models/embedding-001'\n",
        "\n",
        "request = genai.embed_content(model=model,\n",
        "                              content=query,\n",
        "                              task_type=\"retrieval_query\")"
      ],
      "metadata": {
        "id": "DH66bakghTfy"
      },
      "execution_count": null,
      "outputs": []
    },
    {
      "cell_type": "markdown",
      "source": [
        "*Faz uma função que procura um documento relacionado a pergunta na célula 64(a que organiza a lista) e escolhe a melhor para responder*"
      ],
      "metadata": {
        "id": "eRD1cqBVhVk3"
      }
    },
    {
      "cell_type": "code",
      "source": [
        "def acha(query, dataframe):\n",
        "  query_embedding = genai.embed_content(model=model,\n",
        "                                        content=query,\n",
        "                                        task_type=\"retrieval_query\")\n",
        "  dot_products = np.dot(np.stack(dataframe['Embeddings']), query_embedding[\"embedding\"])\n",
        "  idx = np.argmax(dot_products)\n",
        "  return dataframe.iloc[idx]['Text']"
      ],
      "metadata": {
        "id": "sDYB8dXRhYRy"
      },
      "execution_count": 22,
      "outputs": []
    },
    {
      "cell_type": "markdown",
      "source": [
        "*Chama a função criada e gera a resposta*"
      ],
      "metadata": {
        "id": "XDe97Df9haKG"
      }
    },
    {
      "cell_type": "code",
      "source": [
        "passage = acha(query, df)\n",
        "passage\n",
        "#resposta será gerada aqui ⬇"
      ],
      "metadata": {
        "id": "DrylbGXjhc3Q"
      },
      "execution_count": null,
      "outputs": []
    },
    {
      "cell_type": "markdown",
      "source": [
        "# *Configurações do Gemini🤖*"
      ],
      "metadata": {
        "id": "LbJsd4EOheXX"
      }
    },
    {
      "cell_type": "markdown",
      "source": [
        "### Configurações gerais"
      ],
      "metadata": {
        "id": "47YGT_Y0hiMw"
      }
    },
    {
      "cell_type": "markdown",
      "source": [
        "*Seleciona a temperatura, top_p top_k e a quantidade de candidatos*"
      ],
      "metadata": {
        "id": "96nLPpvQhi4h"
      }
    },
    {
      "cell_type": "code",
      "source": [
        "generation_config = {\n",
        "  \"temperature\": 1,\n",
        "  \"top_p\": 0.95,\n",
        "  \"top_k\": 35,\n",
        "  \"candidate_count\": 1,\n",
        "}"
      ],
      "metadata": {
        "id": "kk9j7SEHhggo"
      },
      "execution_count": 24,
      "outputs": []
    },
    {
      "cell_type": "markdown",
      "source": [
        "*Seleciona as travas de segurança de ódio, assédio, coisas sexuais e perigo*"
      ],
      "metadata": {
        "id": "noxM4Tg5hmbm"
      }
    },
    {
      "cell_type": "code",
      "source": [
        "safety_settings = {\n",
        "  \"HATE\": \"BLOCK_NONE\",\n",
        "  \"HARASSMENT\": \"BLOCK_NONE\",\n",
        "  \"SEXUAL\": \"BLOCK_NONE\",\n",
        "  \"DANGEROUS\": \"BLOCK_NONE\"\n",
        "}"
      ],
      "metadata": {
        "id": "mph1oh6HhqMw"
      },
      "execution_count": 25,
      "outputs": []
    },
    {
      "cell_type": "markdown",
      "source": [
        "## Resposta 💬"
      ],
      "metadata": {
        "id": "RfxdLZKWhtIQ"
      }
    },
    {
      "cell_type": "markdown",
      "source": [
        "*Aqui o gemni reformulará a resposta anterior com o prompt(Aja como um professor super capacitado sobre a linguagem de programação java e um aluno faz a seguinte solicitação: Por favor, expanda o texto fornecido com muito mais detalhes, exemplos ou explicações adicionais. Explore cada ideia apresentada no texto e forneça insights mais profundos, conexões com conceitos relacionados e aplicações práticas, se possível. Tente fornecer uma análise abrangente e enriquecida que ajude a esclarecer e aprofundar o entendimento do leitor sobre o assunto [assunto].)e mostrará logo em seguida*"
      ],
      "metadata": {
        "id": "LtVLEM3VhurO"
      }
    },
    {
      "cell_type": "code",
      "source": [
        "prompt = f\"Aja como um professor super capacitado sobre a linguagem de programação java e um aluno faz a seguinte solicitação: Por favor, expanda o texto fornecido com muito mais detalhes, exemplos ou explicações adicionais. Explore cada ideia apresentada no texto e forneça insights mais profundos, conexões com conceitos relacionados e aplicações práticas, se possível. Tente fornecer uma análise abrangente e enriquecida que ajude a esclarecer e aprofundar o entendimento do leitor sobre o assunto {passage}.\"\n",
        "model_2 = genai.GenerativeModel(\"gemini-1.0-pro\")\n",
        "response = model_2.generate_content(prompt)\n",
        "print(response.text)"
      ],
      "metadata": {
        "id": "DtqqaPuEhywb"
      },
      "execution_count": null,
      "outputs": []
    },
    {
      "cell_type": "markdown",
      "source": [
        "# Agradecimentos 👍"
      ],
      "metadata": {
        "id": "zxi8G_fdh3eQ"
      }
    },
    {
      "cell_type": "markdown",
      "source": [
        "*Gostaria de agradeçer ao pessoal da Alura por essa oportunidade de aprender mais sobre IAs. Espero conseguir pelomenos o sexto lugar para conseguir o acesso aos cursos da alura!*"
      ],
      "metadata": {
        "id": "cnHoF4k9h5s-"
      }
    },
    {
      "cell_type": "markdown",
      "source": [
        "# *💻Usado código de:*\n",
        "\n"
      ],
      "metadata": {
        "id": "Wvqi2aU4h7hL"
      }
    },
    {
      "cell_type": "markdown",
      "source": [
        "[Quickstart_colab](https://colab.research.google.com/github/google/generative-ai-docs/blob/main/site/en/tutorials/quickstart_colab.ipynb#scrollTo=j51mcrLD4Y2W)\n",
        "e também de [document_search](https://colab.research.google.com/github/google/generative-ai-docs/blob/main/site/en/gemini-api/tutorials/document_search.ipynb?hl=pt-br#scrollTo=1I5lAqdH9zWL)"
      ],
      "metadata": {
        "id": "uo8ilETEiAue"
      }
    }
  ]
}